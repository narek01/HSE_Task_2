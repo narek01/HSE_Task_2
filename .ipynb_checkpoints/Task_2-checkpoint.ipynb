{
 "cells": [
  {
   "cell_type": "code",
   "execution_count": 1,
   "metadata": {},
   "outputs": [],
   "source": [
    "import numpy as np\n",
    "import pandas as pd\n",
    "import matplotlib.pyplot as plt\n",
    "from sklearn.linear_model import LinearRegression\n",
    "from sklearn.model_selection import train_test_split\n",
    "from sklearn.metrics import mean_absolute_error, mean_squared_error"
   ]
  },
  {
   "cell_type": "markdown",
   "metadata": {},
   "source": [
    "1. Постройте модель, которая оценивает вероятность того, что в следующем году в африканской стране Central African Republic произойдет кризис на базе 5-летней истории (наличие кризиса, информация о валюте и внешнем долге)\n",
    "\n",
    "2. Сколько ввп в среднем у стран с наименьшим количеством кризисов в спокойные годы?\n",
    "\n",
    "3. В какой африканской стране кризисы происходят чаще?"
   ]
  },
  {
   "cell_type": "markdown",
   "metadata": {},
   "source": [
    " "
   ]
  },
  {
   "cell_type": "markdown",
   "metadata": {},
   "source": [
    "### I. Построим модель, оценивающую вероятность инфляционного кризиса в ЦАР"
   ]
  },
  {
   "cell_type": "markdown",
   "metadata": {},
   "source": [
    "Предподготовка"
   ]
  },
  {
   "cell_type": "markdown",
   "metadata": {},
   "source": [
    "1. Загрузим базу данных\n",
    "2. Выберем интересующую нас страну - Центрально-африканскую республику\n",
    "3. Немножко пошаманим с переменными"
   ]
  },
  {
   "cell_type": "code",
   "execution_count": 2,
   "metadata": {},
   "outputs": [],
   "source": [
    "data = pd.read_csv(\"african_crises.csv\", index_col = 0)"
   ]
  },
  {
   "cell_type": "code",
   "execution_count": 3,
   "metadata": {},
   "outputs": [],
   "source": [
    "data1 = data[data[\"country\"] == \"Central African Republic\"]"
   ]
  },
  {
   "cell_type": "code",
   "execution_count": 4,
   "metadata": {},
   "outputs": [],
   "source": [
    "c = \"inflation_crises\"\n",
    "e = \"exch_usd\"\n",
    "\n",
    "y_raw = data1[c].values"
   ]
  },
  {
   "cell_type": "code",
   "execution_count": 5,
   "metadata": {},
   "outputs": [],
   "source": [
    "###Получим значения для тренировки предсказания\n",
    "n = 0\n",
    "M = []\n",
    "while n != y_raw.shape[0]-5:\n",
    "    M.append(y_raw[n+5])\n",
    "    n += 1"
   ]
  },
  {
   "cell_type": "code",
   "execution_count": 6,
   "metadata": {},
   "outputs": [],
   "source": [
    "M = np.array(M)"
   ]
  },
  {
   "cell_type": "code",
   "execution_count": 7,
   "metadata": {},
   "outputs": [],
   "source": [
    "###Переходим к стоимости валюты относительно доллара\n",
    "x_raw = data1[e].values"
   ]
  },
  {
   "cell_type": "code",
   "execution_count": 8,
   "metadata": {},
   "outputs": [],
   "source": [
    "###Уменьшим значения до разброса от 0 до 1\n",
    "for i in range(len(x_raw)):\n",
    "    x_raw[i] = float(x_raw[i])\n",
    "x_pre = x_raw/100"
   ]
  },
  {
   "cell_type": "code",
   "execution_count": 9,
   "metadata": {},
   "outputs": [],
   "source": [
    "###Получим значения для тренировки предсказания\n",
    "i = 0\n",
    "X = []\n",
    "Y = []\n",
    "while i != x_pre.shape[0]-5:\n",
    "    X.append(x_pre[i:i+5])\n",
    "    i += 1"
   ]
  },
  {
   "cell_type": "code",
   "execution_count": 10,
   "metadata": {},
   "outputs": [],
   "source": [
    "X = np.stack(X)"
   ]
  },
  {
   "cell_type": "markdown",
   "metadata": {},
   "source": [
    "    Переход к тренировке"
   ]
  },
  {
   "cell_type": "code",
   "execution_count": 11,
   "metadata": {},
   "outputs": [],
   "source": [
    "###Получаем линейную регрессию (строим модель)\n",
    "xtr, xte, mtr, mte = train_test_split(X, M)"
   ]
  },
  {
   "cell_type": "code",
   "execution_count": 12,
   "metadata": {},
   "outputs": [],
   "source": [
    "model1 = LinearRegression()"
   ]
  },
  {
   "cell_type": "code",
   "execution_count": 13,
   "metadata": {},
   "outputs": [
    {
     "data": {
      "text/plain": [
       "LinearRegression(copy_X=True, fit_intercept=True, n_jobs=None, normalize=False)"
      ]
     },
     "execution_count": 13,
     "metadata": {},
     "output_type": "execute_result"
    }
   ],
   "source": [
    "###Фитим модельку\n",
    "model1.fit(xtr, mtr)"
   ]
  },
  {
   "cell_type": "code",
   "execution_count": 14,
   "metadata": {},
   "outputs": [
    {
     "name": "stdout",
     "output_type": "stream",
     "text": [
      "mse = 0.004512493007159216 mae =  0.05878954607912813\n"
     ]
    }
   ],
   "source": [
    "print(\"mse =\", mean_squared_error(mte, model1.predict(xte)), \n",
    "      \"mae = \", mean_absolute_error(mte, model1.predict(xte)))\n",
    "###Среднеквадратичная ошибка дает, конечно, не сильно большую ошибку, хоть и существенную,\n",
    "###а вот среднеабсолютная совсем улетает :("
   ]
  },
  {
   "cell_type": "code",
   "execution_count": 15,
   "metadata": {
    "scrolled": true
   },
   "outputs": [
    {
     "data": {
      "text/plain": [
       "<matplotlib.collections.PathCollection at 0x184af662f08>"
      ]
     },
     "execution_count": 15,
     "metadata": {},
     "output_type": "execute_result"
    },
    {
     "data": {
      "image/png": "[encoded data removed]",
      "text/plain": [
       "<Figure size 432x288 with 1 Axes>"
      ]
     },
     "metadata": {
      "needs_background": "light"
     },
     "output_type": "display_data"
    }
   ],
   "source": [
    "###Построим граф(конечно, с учетом того, что М принимает\n",
    "###значение от 0 до 1, то это не совсем корректно), \n",
    "###хотя по значениям все достаточно близко к истине\n",
    "plt.scatter(model1.predict(xte), mte)"
   ]
  },
  {
   "cell_type": "code",
   "execution_count": 16,
   "metadata": {},
   "outputs": [
    {
     "data": {
      "text/plain": [
       "array([4.55335971, 4.90912289, 5.06961125, 4.97163104, 4.7564136 ])"
      ]
     },
     "execution_count": 16,
     "metadata": {},
     "output_type": "execute_result"
    }
   ],
   "source": [
    "X[-1]"
   ]
  },
  {
   "cell_type": "code",
   "execution_count": 17,
   "metadata": {
    "scrolled": true
   },
   "outputs": [
    {
     "data": {
      "text/plain": [
       "0"
      ]
     },
     "execution_count": 17,
     "metadata": {},
     "output_type": "execute_result"
    }
   ],
   "source": [
    "M[-1]"
   ]
  },
  {
   "cell_type": "markdown",
   "metadata": {},
   "source": [
    "Попробуем предсказать"
   ]
  },
  {
   "cell_type": "code",
   "execution_count": 18,
   "metadata": {},
   "outputs": [
    {
     "data": {
      "text/plain": [
       "array([0.00176804])"
      ]
     },
     "execution_count": 18,
     "metadata": {},
     "output_type": "execute_result"
    }
   ],
   "source": [
    "###А теперь предскажем\n",
    "model1.predict([[4.55335971, 4.90912289, 5.06961125, 4.97163104, 4.7564136    ]])"
   ]
  },
  {
   "cell_type": "markdown",
   "metadata": {},
   "source": [
    "Таким образом, модель предсказывает, что кризиса не будет"
   ]
  },
  {
   "cell_type": "markdown",
   "metadata": {},
   "source": [
    " "
   ]
  },
  {
   "cell_type": "markdown",
   "metadata": {},
   "source": [
    "### II. Посчитаем средний ВВП у стран с наименьшим количеством кризисов в спокойные годы"
   ]
  },
  {
   "cell_type": "markdown",
   "metadata": {},
   "source": [
    "1. Отберём только бескризисные года (отбор по банковскому кризису) и найдём страны, у которых хоть раз не было кризиса\n",
    "2. Найдём 3 страны, у которых больше всего лет без кризиса\n",
    "3. Теперь выведем средний ВВП этих стран"
   ]
  },
  {
   "cell_type": "code",
   "execution_count": 19,
   "metadata": {},
   "outputs": [],
   "source": [
    "data2 = data[data['banking_crisis'] == \"no_crisis\"]\n",
    "for i in range(1939, 1946):\n",
    "    data2 = data2[data2['year'] != i]\n",
    "for i in range(1939, 1946):\n",
    "    data2 = data2[data2['year'] != i]\n",
    "\n",
    "cat, cnt = np.unique(data2[\"country\"].values, return_counts = True)"
   ]
  },
  {
   "cell_type": "code",
   "execution_count": 20,
   "metadata": {
    "scrolled": true
   },
   "outputs": [
    {
     "name": "stdout",
     "output_type": "stream",
     "text": [
      "in Egypt the average debt in default vis-a-vis the GDP is 0.015483870967741935\n",
      "in South Africa the average debt in default vis-a-vis the GDP is 0.015789473684210523\n",
      "in Algeria the average debt in default vis-a-vis the GDP is 0.01623529411764706\n"
     ]
    }
   ],
   "source": [
    "l = [int(i) for i in cnt]\n",
    "m = []\n",
    "\n",
    "for i in range(3):\n",
    "    m.append(l.index(max(l)))\n",
    "    l[l.index(max(l))] = 0\n",
    "    \n",
    "for i in range(len(m)):\n",
    "    d1 = data[data['country'] == cat[m[i]]]\n",
    "    m1 = sum(d1[\"gdp_weighted_default\"].values)\n",
    "    m2 = d1.shape[0]\n",
    "    print('in', cat[m[i]], 'the average debt in default vis-a-vis the GDP is', m1/m2)"
   ]
  },
  {
   "cell_type": "markdown",
   "metadata": {},
   "source": [
    "Как видим, реже всего банковские кризисы происходили в Египте, ЮАР и Алжире"
   ]
  },
  {
   "cell_type": "markdown",
   "metadata": {},
   "source": [
    " "
   ]
  },
  {
   "cell_type": "markdown",
   "metadata": {},
   "source": [
    "### III. Теперь посмотрим, в какой стране чаще происходят кризисы. Для разнообразия исследуем валютные кризисы"
   ]
  },
  {
   "cell_type": "code",
   "execution_count": 21,
   "metadata": {},
   "outputs": [
    {
     "name": "stdout",
     "output_type": "stream",
     "text": [
      "Most often, crises occurred in Zimbabwe\n"
     ]
    }
   ],
   "source": [
    "data3 = data[data['currency_crises'] == 1]\n",
    "cal, cnl = np.unique(data3['country'].values, return_counts = True)\n",
    "k = [int(i) for i in cnl]\n",
    "print(\"Most often, crises occurred in\", cal[k.index(max(k))])"
   ]
  },
  {
   "cell_type": "markdown",
   "metadata": {},
   "source": [
    "Как видим, в отношении валюты среди африканских стран наиболее нестабильна Республика Зимбабве"
   ]
  }
 ],
 "metadata": {
  "kernelspec": {
   "display_name": "Python 3",
   "language": "python",
   "name": "python3"
  },
  "language_info": {
   "codemirror_mode": {
    "name": "ipython",
    "version": 3
   },
   "file_extension": ".py",
   "mimetype": "text/x-python",
   "name": "python",
   "nbconvert_exporter": "python",
   "pygments_lexer": "ipython3",
   "version": "3.7.6"
  }
 },
 "nbformat": 4,
 "nbformat_minor": 2
}
